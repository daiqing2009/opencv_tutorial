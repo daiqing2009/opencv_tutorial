{
 "cells": [
  {
   "cell_type": "markdown",
   "metadata": {},
   "source": [
    "参考了http://blog.csdn.net/sunny2038/article/category/904451 和 https://opencv-python-tutroals.readthedocs.io\n",
    "涵盖内容：\n",
    "基础知识:\n",
    "* 图片基本处理 1d\n",
    "* 图片基本转换 2d\n",
    "* 图片过滤器  1w\n",
    "图像识别：\n",
    "* feature识别法 3d\n",
    "* 匹配       3d"
   ]
  },
  {
   "cell_type": "markdown",
   "metadata": {},
   "source": [
    "#安装 open CV\n",
    "#参考了http://www.cnblogs.com/zjutzz/p/4633982.html和https://www.scivision.co/install-opencv-3-0-x-for-python-on-windows/\n",
    "从这里下载http://www.lfd.uci.edu/~gohlke/pythonlibs/#opencv\n",
    "初学者不要安装3.1，要安装2.4，不然tutorial也完成不了\n",
    "如果安装了，要用pip uninstall 来解除。"
   ]
  },
  {
   "cell_type": "code",
   "execution_count": 2,
   "metadata": {
    "collapsed": false,
    "scrolled": true
   },
   "outputs": [
    {
     "name": "stdout",
     "output_type": "stream",
     "text": [
      "OpenCV Version: 2.4.13\n"
     ]
    }
   ],
   "source": [
    "#http://www.pyimagesearch.com/2015/08/10/checking-your-opencv-version-using-python/\n",
    "import imutils \n",
    "import cv2\n",
    "print(\"OpenCV Version: {}\".format(cv2.__version__))\n",
    "#%debug"
   ]
  },
  {
   "cell_type": "code",
   "execution_count": 6,
   "metadata": {
    "collapsed": false
   },
   "outputs": [],
   "source": [
    "cv2.imshow?\n",
    "cv2.namedWindow?"
   ]
  },
  {
   "cell_type": "code",
   "execution_count": 5,
   "metadata": {
    "collapsed": false,
    "scrolled": false
   },
   "outputs": [
    {
     "ename": "error",
     "evalue": "..\\..\\..\\opencv-2.4.13\\modules\\highgui\\src\\window.cpp:269: error: (-215) size.width>0 && size.height>0 in function cv::imshow\n",
     "output_type": "error",
     "traceback": [
      "\u001b[1;31m---------------------------------------------------------------------------\u001b[0m",
      "\u001b[1;31merror\u001b[0m                                     Traceback (most recent call last)",
      "\u001b[1;32m<ipython-input-5-0dd45d85f2d4>\u001b[0m in \u001b[0;36m<module>\u001b[1;34m()\u001b[0m\n\u001b[0;32m      3\u001b[0m \u001b[0mimg\u001b[0m\u001b[1;33m=\u001b[0m\u001b[0mcv2\u001b[0m\u001b[1;33m.\u001b[0m\u001b[0mimread\u001b[0m\u001b[1;33m(\u001b[0m\u001b[1;34m'frame_l1.JPG'\u001b[0m\u001b[1;33m)\u001b[0m\u001b[1;33m\u001b[0m\u001b[0m\n\u001b[0;32m      4\u001b[0m \u001b[1;33m\u001b[0m\u001b[0m\n\u001b[1;32m----> 5\u001b[1;33m \u001b[0mcv2\u001b[0m\u001b[1;33m.\u001b[0m\u001b[0mimshow\u001b[0m\u001b[1;33m(\u001b[0m\u001b[0mcv2\u001b[0m\u001b[1;33m.\u001b[0m\u001b[0mnamedWindow\u001b[0m\u001b[1;33m(\u001b[0m\u001b[1;34m'image'\u001b[0m\u001b[1;33m,\u001b[0m \u001b[0mcv2\u001b[0m\u001b[1;33m.\u001b[0m\u001b[0mWINDOW_NORMAL\u001b[0m\u001b[1;33m)\u001b[0m\u001b[1;33m,\u001b[0m\u001b[0mimg\u001b[0m\u001b[1;33m)\u001b[0m\u001b[1;33m\u001b[0m\u001b[0m\n\u001b[0m\u001b[0;32m      6\u001b[0m \u001b[0mk\u001b[0m \u001b[1;33m=\u001b[0m \u001b[0mcv2\u001b[0m\u001b[1;33m.\u001b[0m\u001b[0mwaitKey\u001b[0m\u001b[1;33m(\u001b[0m\u001b[1;36m0\u001b[0m\u001b[1;33m)\u001b[0m\u001b[1;33m\u001b[0m\u001b[0m\n\u001b[0;32m      7\u001b[0m \u001b[1;32mif\u001b[0m \u001b[0mk\u001b[0m \u001b[1;33m==\u001b[0m \u001b[1;36m27\u001b[0m\u001b[1;33m:\u001b[0m         \u001b[1;31m# wait for ESC key to exit\u001b[0m\u001b[1;33m\u001b[0m\u001b[0m\n",
      "\u001b[1;31merror\u001b[0m: ..\\..\\..\\opencv-2.4.13\\modules\\highgui\\src\\window.cpp:269: error: (-215) size.width>0 && size.height>0 in function cv::imshow\n"
     ]
    }
   ],
   "source": [
    "#读入文件与保存。\n",
    "import cv2  \n",
    "img=cv2.imread('frame_l1.JPG')\n",
    "cv2.namedWindow('image', cv2.WINDOW_NORMAL)\n",
    "cv2.imshow('image',img)\n",
    "k = cv2.waitKey(0)\n",
    "if k == 27:         # wait for ESC key to exit\n",
    "    cv2.destroyAllWindows()\n",
    "elif k == ord('s'): # wait for 's' key to save and exit\n",
    "    cv2.imwrite('frame_l1.bak.JPG',img)\n",
    "    cv2.destroyAllWindows()"
   ]
  },
  {
   "cell_type": "code",
   "execution_count": 2,
   "metadata": {
    "collapsed": false,
    "scrolled": true
   },
   "outputs": [
    {
     "data": {
      "text/plain": [
       "True"
      ]
     },
     "execution_count": 2,
     "metadata": {},
     "output_type": "execute_result"
    }
   ],
   "source": [
    "#以灰度方式 读取进来（此时会丢失部分信息），然后将其保存。\n",
    "import cv2  \n",
    "\n",
    "greyImage = cv2.imread('frame_r1.png', cv2.IMREAD_GRAYSCALE)  \n",
    "cv2.imwrite('frame_r1.grey.JPG', grayImage)  "
   ]
  },
  {
   "cell_type": "code",
   "execution_count": 24,
   "metadata": {
    "collapsed": false
   },
   "outputs": [
    {
     "data": {
      "text/plain": [
       "-1"
      ]
     },
     "execution_count": 24,
     "metadata": {},
     "output_type": "execute_result"
    }
   ],
   "source": [
    "import numpy as np\n",
    "emptyImg = np.zeros(img.shape, np.uint8)  \n",
    "emptyImg2 = img.copy\n",
    "#面的emptyImage3[...]=0是将其转成空白的黑色图像。\n",
    "emptyImg3 = cv2.cvtColor(img,cv2.COLOR_BGR2GRAY)\n",
    "cv2.namedWindow('image', cv2.WINDOW_NORMAL)\n",
    "cv2.imshow('image',emptyImg3)\n",
    "cv2.waitKey(0)"
   ]
  },
  {
   "cell_type": "code",
   "execution_count": 3,
   "metadata": {
    "collapsed": false
   },
   "outputs": [
    {
     "data": {
      "text/plain": [
       "True"
      ]
     },
     "execution_count": 3,
     "metadata": {},
     "output_type": "execute_result"
    }
   ],
   "source": [
    "#图像与字节的交换\n",
    "import cv2  \n",
    "import numpy  \n",
    "import os  \n",
    "# Make an array of 120,000 random bytes.  \n",
    "randomByteArray = bytearray(os.urandom(120000))  \n",
    "  \n",
    "flatNumpyArray = numpy.array(randomByteArray)  \n",
    "# Convert the array to make a 400x300 grayscale image.  \n",
    "grayImage = flatNumpyArray.reshape(300, 400)  \n",
    "cv2.imwrite('RandomGray.png', grayImage)  \n",
    "# Convert the array to make a 400x100 color image.  \n",
    "bgrImage = flatNumpyArray.reshape(100, 400, 3)  \n",
    "cv2.imwrite('RandomColor.png', bgrImage)  "
   ]
  },
  {
   "cell_type": "code",
   "execution_count": 6,
   "metadata": {
    "collapsed": false
   },
   "outputs": [
    {
     "data": {
      "text/plain": [
       "120000"
      ]
     },
     "execution_count": 6,
     "metadata": {},
     "output_type": "execute_result"
    }
   ],
   "source": [
    "len(randomByteArray)"
   ]
  }
 ],
 "metadata": {
  "kernelspec": {
   "display_name": "Python 2",
   "language": "python",
   "name": "python2"
  },
  "language_info": {
   "codemirror_mode": {
    "name": "ipython",
    "version": 2
   },
   "file_extension": ".py",
   "mimetype": "text/x-python",
   "name": "python",
   "nbconvert_exporter": "python",
   "pygments_lexer": "ipython2",
   "version": "2.7.11"
  }
 },
 "nbformat": 4,
 "nbformat_minor": 0
}
